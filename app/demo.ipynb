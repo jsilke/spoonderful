{
 "cells": [
  {
   "cell_type": "code",
   "execution_count": 1,
   "metadata": {},
   "outputs": [],
   "source": [
    "import pandas as pd\n",
    "from spoonderful.processing.preprocess import prep_data\n",
    "from spoonderful.data.schemas import Recommendation"
   ]
  },
  {
   "cell_type": "code",
   "execution_count": 2,
   "metadata": {},
   "outputs": [],
   "source": [
    "def get_recipes(ingredients: str):\n",
    "    \"\"\"\n",
    "    Query Spoonacular's API for data using the provided ingredient list and apply the recommendation algorithm to return recipe recommendations.\n",
    "    \"\"\"\n",
    "    columns_to_show = [\"title\", \"image\", \"readyInMinutes\", \"instructions\"]\n",
    "    df = prep_data(ingredients)\n",
    "    recommendations = _make_recommendations(df, columns_to_show)\n",
    "\n",
    "    return recommendations\n",
    "\n",
    "\n",
    "def _make_recommendations(df: pd.DataFrame, columns: tuple) -> dict[Recommendation]:\n",
    "    \"\"\"\n",
    "    Internal function used by `get_recipes` that takes in a DataFrame filtered down to 5 recipes and returns the recommendations in a dictionary.\n",
    "    \"\"\"\n",
    "    recommendations = {\n",
    "        row.Index: Recommendation(\n",
    "            name=row.title,\n",
    "            image=row.image,\n",
    "            instructions=row.instructions,\n",
    "            time_minutes=row.readyInMinutes,\n",
    "        )\n",
    "        for row in df[columns].itertuples()\n",
    "    }\n",
    "    return recommendations"
   ]
  },
  {
   "cell_type": "code",
   "execution_count": 3,
   "metadata": {},
   "outputs": [],
   "source": [
    "with open('../data/my_food.txt', 'r') as file:\n",
    "    query = file.read()"
   ]
  },
  {
   "cell_type": "code",
   "execution_count": 4,
   "metadata": {},
   "outputs": [
    {
     "name": "stdout",
     "output_type": "stream",
     "text": [
      "https://developer.mozilla.org/en-US/docs/Web/HTTP/Status/200\n",
      "X-Ratelimit-Requests-Limit: 5000\n",
      "X-Ratelimit-Requests-Remaining: 5000\n",
      "X-Ratelimit-Tinyrequests-Limit: 50000\n",
      "X-Ratelimit-Tinyrequests-Remaining: 50000\n"
     ]
    },
    {
     "data": {
      "text/plain": [
       "{158738: Recommendation(name='Pasta-Beef Cobbler', image='https://spoonacular.com/recipeImages/158738-312x231.jpg', instructions='1. Heat oven to 375F. In 10-inch skillet, cook beef, onion, bell pepper and seasoned salt over medium heat, stirring occasionally, until beef is brown; drain.\\n2. Stir hot water, 3/4 cup of the milk and the Sauce\\n3. Mix into beef mixture. Stir in brown sugar and ketchup.\\n4. Heat to boiling, stirring occasionally.  Spoon beef mixture into ungreased rectangular baking dish, 13x9x2 inches; stir in uncooked pasta. Set aside.\\n5. In medium bowl, stir Bisquick mix, remaining 1 cup of the milk and the eggs until blended.\\n6. Pour evenly over beef mixture.\\n7. Bake cobbler 30 to 35 minutes or until light golden.', time_minutes=70),\n",
       " 163759: Recommendation(name='Make Ahead Sausage Potato Egg Bake', image='https://spoonacular.com/recipeImages/163759-312x231.jpg', instructions='1. Spray 13x9-inch (3-quart) glass baking dish with cooking spray. In 12-inch skillet, cook sausage over medium heat 5 to 7 minutes, stirring occasionally, until sausage begins to brown; drain if necessary.\\n2. Add onion; cook 2 to 3 minutes or until slightly softened.\\n3. Add both bell peppers; cook and stir 1 minute.\\n4. Add garlic; cook and stir 30 seconds or until softened.\\n5. Spread half of potatoes in bottom of baking dish.\\n6. Sprinkle with 1/4 teaspoon each of the salt and pepper.\\n7. Layer with half of sausage mixture and half of cheese. Repeat layers.\\n8. In large bowl, beat eggs and milk with wire whisk.\\n9. Pour over layers in baking dish. Cover; refrigerate 8 hours or overnight but no longer than 24 hours.\\n10. Heat oven to 350°F. Loosely cover baking dish with sheet of nonstick foil or regular foil sprayed with cooking spray (nonstick or sprayed side down).\\n11. Bake 1 hour 30 minutes to 1 hour 40 minutes or until set and potatoes are tender when pierced with a fork.\\n12. Remove from oven; let stand 5 minutes before cutting.', time_minutes=615),\n",
       " 692415: Recommendation(name='Bacon-Cheeseburger Chowder', image='https://spoonacular.com/recipeImages/692415-312x231.jpg', instructions='1. In a 6-qt. stockpot, cook beef, onion and pepper over medium heat 6-8 minutes or until beef is no longer pink and onion is tender, breaking up beef into crumbles; drain.\\n2. Add garlic to beef mixture; cook 1 minute longer. Stir in flour until blended.\\n3. Gradually stir in milk.\\n4. Add potatoes, water and bouillon; bring to a boil. Reduce heat; simmer, covered, 15-20 minutes or until potatoes are tender.\\n5. Add cheese; stir until melted.\\n6. Sprinkle servings with bacon.', time_minutes=45),\n",
       " 172826: Recommendation(name='Ham and Vegetable Scrambled Eggs', image='https://spoonacular.com/recipeImages/172826-312x231.jpg', instructions='1. In medium bowl, combine eggs, milk and garlic salt; beat well. Set aside.\\n2. Melt margarine in large skillet over medium heat.\\n3. Add ham, bell pepper and onion; cook and stir 2 to 4 minutes or until vegetables are crisp-tender.\\n4. Pour egg mixture over ham mixture in skillet. Cook until eggs are set but slightly moist, stirring occasionally from outside edge to center of pan.\\n5. Remove from heat.\\n6. Sprinkle with cheese. Cover; let stand 1 minute or until cheese is melted.', time_minutes=20),\n",
       " 423199: Recommendation(name='Next-Generation German Potato Salad', image='https://spoonacular.com/recipeImages/423199-312x231.jpg', instructions='1. Place the potatoes in a Dutch oven and cover with water. Bring to a boil. Reduce heat; cover and simmer for 15-20 minutes or until tender.\\n2. Meanwhile, in a large skillet, cook bacon over medium heat until crisp. Using a slotted spoon, remove to paper towels. In the drippings, saute the onion, celery and green pepper until tender. Stir in the flour, sugar, salt and pepper until blended.\\n3. Combine water and vinegar; stir into vegetable mixture. Bring to a boil; cook and stir for 2 minutes or until thickened.\\n4. Drain potatoes and place in a large serving bowl.\\n5. Pour dressing over potatoes.\\n6. Add bacon and toss to coat.\\n7. Serve warm or at room temperature. Refrigerate leftovers.', time_minutes=30)}"
      ]
     },
     "execution_count": 4,
     "metadata": {},
     "output_type": "execute_result"
    }
   ],
   "source": [
    "recs = get_recipes(query)\n",
    "recs"
   ]
  }
 ],
 "metadata": {
  "interpreter": {
   "hash": "a8e5d6d90129285900a682bae31f427e3d3c27ecb9f68d9475a50282e0401edc"
  },
  "kernelspec": {
   "display_name": "Python 3.9.7 ('food')",
   "language": "python",
   "name": "python3"
  },
  "language_info": {
   "codemirror_mode": {
    "name": "ipython",
    "version": 3
   },
   "file_extension": ".py",
   "mimetype": "text/x-python",
   "name": "python",
   "nbconvert_exporter": "python",
   "pygments_lexer": "ipython3",
   "version": "3.9.7"
  },
  "orig_nbformat": 4
 },
 "nbformat": 4,
 "nbformat_minor": 2
}
